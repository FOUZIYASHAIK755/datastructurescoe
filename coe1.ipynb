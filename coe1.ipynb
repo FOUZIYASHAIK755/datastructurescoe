{
 "cells": [
  {
   "cell_type": "code",
   "execution_count": 1,
   "id": "8a1dc09f",
   "metadata": {},
   "outputs": [
    {
     "name": "stdout",
     "output_type": "stream",
     "text": [
      "Enter password: Fouziya@123\n",
      "Strong password\n"
     ]
    }
   ],
   "source": [
    "def checkpwd(pwd):\n",
    "   \n",
    "    if len(pwd) < 10 or len(pwd) > 15:\n",
    "        return \"Invalid password: Length should be between 10 and 15 characters.\"\n",
    "    if pwd.isdigit() or pwd.isalpha():\n",
    "        return \"Password should contain both letters and numbers.\"\n",
    "    if not any(char.isupper() for char in pwd) or not any(char.islower() for char in pwd):\n",
    "        return \"Password should contain both uppercase and lowercase letters.\"\n",
    "    if ' ' in pwd:\n",
    "        return \"Password should not contain whitespace characters.\"\n",
    "    if pwd.isalnum():\n",
    "        return \"Password should contain at least one special character.\"\n",
    "    if pwd.endswith('.') or pwd.endswith('@'):\n",
    "        return \"Password should not end with '.' or '@'.\"\n",
    "    return \"Strong password\"\n",
    "pwd = input(\"Enter password: \")\n",
    "print(checkpwd(pwd))\n"
   ]
  },
  {
   "cell_type": "code",
   "execution_count": 2,
   "id": "916203b9",
   "metadata": {},
   "outputs": [
    {
     "name": "stdout",
     "output_type": "stream",
     "text": [
      "enter number5\n",
      "factorial of5 is:120\n"
     ]
    }
   ],
   "source": [
    "def fact(n):\n",
    "    if n==0 or n==1:\n",
    "        return 1\n",
    "    else:\n",
    "        return n*fact(n-1)\n",
    "n=int(input(\"enter number\"))\n",
    "print(f\"factorial of{n} is:{fact(n)}\")        \n",
    "        "
   ]
  },
  {
   "cell_type": "code",
   "execution_count": 3,
   "id": "35db89fd",
   "metadata": {},
   "outputs": [
    {
     "name": "stdout",
     "output_type": "stream",
     "text": [
      "enter the number5\n",
      "the factorial of 5 is :120\n"
     ]
    }
   ],
   "source": [
    "import math\n",
    "n=int(input(\"enter the number\"))\n",
    "print(f\"the factorial of {n} is :{math.factorial(n)}\")\n",
    "        "
   ]
  },
  {
   "cell_type": "code",
   "execution_count": 4,
   "id": "45289b70",
   "metadata": {},
   "outputs": [
    {
     "name": "stdout",
     "output_type": "stream",
     "text": [
      "enter number7\n",
      "7 is a prime number\n"
     ]
    }
   ],
   "source": [
    "from sympy import isprime\n",
    "def primecheck(n):\n",
    "    if isprime(n):\n",
    "        return f\"{n} is a prime number\"\n",
    "    else:\n",
    "        return f\"{n} not a prime number\"\n",
    "n=int(input(\"enter number\"))\n",
    "print(primecheck(n))"
   ]
  },
  {
   "cell_type": "code",
   "execution_count": 5,
   "id": "f079e28e",
   "metadata": {},
   "outputs": [
    {
     "name": "stdout",
     "output_type": "stream",
     "text": [
      "Cart items: {'abc': 10000, 'pan': 1500, 'headp': 50000, 'phone': 25000}\n",
      "Original total price: 86500\n",
      "Total price after discount: 73525.0\n"
     ]
    }
   ],
   "source": [
    "def calc(cart):\n",
    "    original_total = sum(cart.values())\n",
    "    total = original_total\n",
    "    if len(cart) > 5:\n",
    "        total *= 0.9  # 10% discount for more than 5 items\n",
    "    if 10000 < total < 50000:\n",
    "        total *= 0.9  # 10% discount if total is between 10,000 and 50,000\n",
    "    if total > 50000:\n",
    "        total *= 0.85  # 15% discount if total is greater than 50,000\n",
    "    return original_total, total\n",
    "\n",
    "cart = {'abc': 10000, 'pan': 1500, 'headp': 50000, 'phone': 25000}\n",
    "original_total, final_total = calc(cart)\n",
    "\n",
    "print(f\"Cart items: {cart}\")\n",
    "print(f\"Original total price: {original_total}\")\n",
    "print(f\"Total price after discount: {final_total}\")"
   ]
  },
  {
   "cell_type": "code",
   "execution_count": 6,
   "id": "78c4e2ce",
   "metadata": {},
   "outputs": [
    {
     "name": "stdout",
     "output_type": "stream",
     "text": [
      "Enter a year: 2024\n",
      "2024 is a leap year.\n"
     ]
    }
   ],
   "source": [
    "def is_leap_year(year):\n",
    "    return (year % 4 == 0 and (year % 100 != 0 or year % 400 == 0))\n",
    "year = int(input(\"Enter a year: \"))\n",
    "if is_leap_year(year):\n",
    "    print(f\"{year} is a leap year.\")\n",
    "else:\n",
    "    print(f\"{year} is not a leap year.\")\n"
   ]
  },
  {
   "cell_type": "code",
   "execution_count": 7,
   "id": "6846c3fb",
   "metadata": {},
   "outputs": [
    {
     "name": "stdout",
     "output_type": "stream",
     "text": [
      "Enter a year: 2023\n",
      "2023 is not a leap year.\n"
     ]
    }
   ],
   "source": [
    "import calendar\n",
    "def is_leap_year(year):\n",
    "    return calendar.isleap(year)\n",
    "year = int(input(\"Enter a year: \"))\n",
    "if is_leap_year(year):\n",
    "    print(f\"{year} is a leap year.\")\n",
    "else:\n",
    "    print(f\"{year} is not a leap year.\")\n"
   ]
  },
  {
   "cell_type": "code",
   "execution_count": null,
   "id": "33fb3508",
   "metadata": {},
   "outputs": [],
   "source": [
    "def is_palindrome(s):\n",
    "    # Remove spaces and convert to lowercase for case-insensitive comparison\n",
    "    s = s.replace(\" \", \"\").lower()\n",
    "    # Check if the string is equal to its reverse\n",
    "    return s == s[::-1]\n",
    "word = input(\"Enter a string: \")\n",
    "if is_palindrome(word):\n",
    "    print(f'\"{word}\" is a palindrome.')\n",
    "else:\n",
    "    print(f'\"{word}\" is not a palindrome.')\n"
   ]
  }
 ],
 "metadata": {
  "kernelspec": {
   "display_name": "Python 3 (ipykernel)",
   "language": "python",
   "name": "python3"
  },
  "language_info": {
   "codemirror_mode": {
    "name": "ipython",
    "version": 3
   },
   "file_extension": ".py",
   "mimetype": "text/x-python",
   "name": "python",
   "nbconvert_exporter": "python",
   "pygments_lexer": "ipython3",
   "version": "3.11.5"
  }
 },
 "nbformat": 4,
 "nbformat_minor": 5
}
